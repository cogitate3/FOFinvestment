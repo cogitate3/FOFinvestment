{
 "metadata": {
  "language_info": {
   "codemirror_mode": {
    "name": "ipython",
    "version": 3
   },
   "file_extension": ".py",
   "mimetype": "text/x-python",
   "name": "python",
   "nbconvert_exporter": "python",
   "pygments_lexer": "ipython3",
   "version": "3.8.3"
  },
  "orig_nbformat": 2,
  "kernelspec": {
   "name": "python3",
   "display_name": "Python 3",
   "language": "python"
  }
 },
 "nbformat": 4,
 "nbformat_minor": 2,
 "cells": [
  {
   "cell_type": "code",
   "execution_count": 3,
   "metadata": {},
   "outputs": [],
   "source": [
    "import pandas as pd\n",
    "import numpy as np\n"
   ]
  },
  {
   "cell_type": "code",
   "execution_count": 4,
   "metadata": {},
   "outputs": [
    {
     "output_type": "execute_result",
     "data": {
      "text/plain": [
       "          证券代码            证券简称    基金类型  单位净值\\r\\n[交易日期] 最新收盘日\\r\\n[单位] 元  \\\n",
       "0    006880.OF      交银安享稳健养老一年  契约型开放式                          1.1488   \n",
       "1    008886.OF     民生加银卓越配置6个月  契约型开放式                          1.1381   \n",
       "2    006991.OF    民生加银康宁稳健养老一年  契约型开放式                          1.2211   \n",
       "3    010266.OF    兴全安泰稳健养老一年持有  契约型开放式                          1.0267   \n",
       "4    010277.OF  嘉实民安添岁稳健养老一年持有  契约型开放式                          1.0112   \n",
       "..         ...             ...     ...                             ...   \n",
       "182  011587.OF   东方红欣和平衡配置两年持有  契约型开放式                             NaN   \n",
       "183  010958.OF    中信保诚养老2035三年  契约型开放式                             NaN   \n",
       "184  010281.OF          华夏保守养老  契约型开放式                             NaN   \n",
       "185        NaN             NaN     NaN                             NaN   \n",
       "186  数据来源：Wind             NaN     NaN                             NaN   \n",
       "\n",
       "     基金份额\\r\\n[交易日期] 最新\\r\\n[单位] 份↓ 投资风格           基金管理人         基金托管人  \\\n",
       "0                    9.955281e+09  混合型   交银施罗德基金管理有限公司  中国农业银行股份有限公司   \n",
       "1                    8.882033e+09  混合型    民生加银基金管理有限公司  中国建设银行股份有限公司   \n",
       "2                    5.730352e+09  混合型    民生加银基金管理有限公司  中国建设银行股份有限公司   \n",
       "3                    5.657831e+09  混合型    兴证全球基金管理有限公司  中国建设银行股份有限公司   \n",
       "4                    5.082954e+09  混合型      嘉实基金管理有限公司  中国民生银行股份有限公司   \n",
       "..                            ...  ...             ...           ...   \n",
       "182                           NaN  混合型  上海东方证券资产管理有限公司    招商银行股份有限公司   \n",
       "183                           NaN  混合型    中信保诚基金管理有限公司    中信银行股份有限公司   \n",
       "184                           NaN  混合型      华夏基金管理有限公司    中国银行股份有限公司   \n",
       "185                           NaN  NaN             NaN           NaN   \n",
       "186                           NaN  NaN             NaN           NaN   \n",
       "\n",
       "     管理费率\\r\\n[单位] %  托管费率\\r\\n[单位] % 基金经理(现任)  基金存续期      基金成立日  基金到期日  \n",
       "0               0.6            0.20       杨喆    NaN 2019-05-30    NaN  \n",
       "1               0.6            0.15      于善辉    NaN 2020-02-20    NaN  \n",
       "2               0.6            0.15      于善辉    NaN 2019-04-26    NaN  \n",
       "3               0.6            0.15      林国怀    NaN 2020-11-26    NaN  \n",
       "4               0.6            0.15       郑科    NaN 2021-01-13    NaN  \n",
       "..              ...             ...      ...    ...        ...    ...  \n",
       "182             1.0            0.20  邓炯鹏,陈文扬    NaN        NaT    NaN  \n",
       "183             0.6            0.10      李争争    NaN        NaT    NaN  \n",
       "184             0.3            0.10      许利明    NaN        NaT    NaN  \n",
       "185             NaN             NaN      NaN    NaN        NaT    NaN  \n",
       "186             NaN             NaN      NaN    NaN        NaT    NaN  \n",
       "\n",
       "[187 rows x 14 columns]"
      ],
      "text/html": "<div>\n<style scoped>\n    .dataframe tbody tr th:only-of-type {\n        vertical-align: middle;\n    }\n\n    .dataframe tbody tr th {\n        vertical-align: top;\n    }\n\n    .dataframe thead th {\n        text-align: right;\n    }\n</style>\n<table border=\"1\" class=\"dataframe\">\n  <thead>\n    <tr style=\"text-align: right;\">\n      <th></th>\n      <th>证券代码</th>\n      <th>证券简称</th>\n      <th>基金类型</th>\n      <th>单位净值\\r\\n[交易日期] 最新收盘日\\r\\n[单位] 元</th>\n      <th>基金份额\\r\\n[交易日期] 最新\\r\\n[单位] 份↓</th>\n      <th>投资风格</th>\n      <th>基金管理人</th>\n      <th>基金托管人</th>\n      <th>管理费率\\r\\n[单位] %</th>\n      <th>托管费率\\r\\n[单位] %</th>\n      <th>基金经理(现任)</th>\n      <th>基金存续期</th>\n      <th>基金成立日</th>\n      <th>基金到期日</th>\n    </tr>\n  </thead>\n  <tbody>\n    <tr>\n      <th>0</th>\n      <td>006880.OF</td>\n      <td>交银安享稳健养老一年</td>\n      <td>契约型开放式</td>\n      <td>1.1488</td>\n      <td>9.955281e+09</td>\n      <td>混合型</td>\n      <td>交银施罗德基金管理有限公司</td>\n      <td>中国农业银行股份有限公司</td>\n      <td>0.6</td>\n      <td>0.20</td>\n      <td>杨喆</td>\n      <td>NaN</td>\n      <td>2019-05-30</td>\n      <td>NaN</td>\n    </tr>\n    <tr>\n      <th>1</th>\n      <td>008886.OF</td>\n      <td>民生加银卓越配置6个月</td>\n      <td>契约型开放式</td>\n      <td>1.1381</td>\n      <td>8.882033e+09</td>\n      <td>混合型</td>\n      <td>民生加银基金管理有限公司</td>\n      <td>中国建设银行股份有限公司</td>\n      <td>0.6</td>\n      <td>0.15</td>\n      <td>于善辉</td>\n      <td>NaN</td>\n      <td>2020-02-20</td>\n      <td>NaN</td>\n    </tr>\n    <tr>\n      <th>2</th>\n      <td>006991.OF</td>\n      <td>民生加银康宁稳健养老一年</td>\n      <td>契约型开放式</td>\n      <td>1.2211</td>\n      <td>5.730352e+09</td>\n      <td>混合型</td>\n      <td>民生加银基金管理有限公司</td>\n      <td>中国建设银行股份有限公司</td>\n      <td>0.6</td>\n      <td>0.15</td>\n      <td>于善辉</td>\n      <td>NaN</td>\n      <td>2019-04-26</td>\n      <td>NaN</td>\n    </tr>\n    <tr>\n      <th>3</th>\n      <td>010266.OF</td>\n      <td>兴全安泰稳健养老一年持有</td>\n      <td>契约型开放式</td>\n      <td>1.0267</td>\n      <td>5.657831e+09</td>\n      <td>混合型</td>\n      <td>兴证全球基金管理有限公司</td>\n      <td>中国建设银行股份有限公司</td>\n      <td>0.6</td>\n      <td>0.15</td>\n      <td>林国怀</td>\n      <td>NaN</td>\n      <td>2020-11-26</td>\n      <td>NaN</td>\n    </tr>\n    <tr>\n      <th>4</th>\n      <td>010277.OF</td>\n      <td>嘉实民安添岁稳健养老一年持有</td>\n      <td>契约型开放式</td>\n      <td>1.0112</td>\n      <td>5.082954e+09</td>\n      <td>混合型</td>\n      <td>嘉实基金管理有限公司</td>\n      <td>中国民生银行股份有限公司</td>\n      <td>0.6</td>\n      <td>0.15</td>\n      <td>郑科</td>\n      <td>NaN</td>\n      <td>2021-01-13</td>\n      <td>NaN</td>\n    </tr>\n    <tr>\n      <th>...</th>\n      <td>...</td>\n      <td>...</td>\n      <td>...</td>\n      <td>...</td>\n      <td>...</td>\n      <td>...</td>\n      <td>...</td>\n      <td>...</td>\n      <td>...</td>\n      <td>...</td>\n      <td>...</td>\n      <td>...</td>\n      <td>...</td>\n      <td>...</td>\n    </tr>\n    <tr>\n      <th>182</th>\n      <td>011587.OF</td>\n      <td>东方红欣和平衡配置两年持有</td>\n      <td>契约型开放式</td>\n      <td>NaN</td>\n      <td>NaN</td>\n      <td>混合型</td>\n      <td>上海东方证券资产管理有限公司</td>\n      <td>招商银行股份有限公司</td>\n      <td>1.0</td>\n      <td>0.20</td>\n      <td>邓炯鹏,陈文扬</td>\n      <td>NaN</td>\n      <td>NaT</td>\n      <td>NaN</td>\n    </tr>\n    <tr>\n      <th>183</th>\n      <td>010958.OF</td>\n      <td>中信保诚养老2035三年</td>\n      <td>契约型开放式</td>\n      <td>NaN</td>\n      <td>NaN</td>\n      <td>混合型</td>\n      <td>中信保诚基金管理有限公司</td>\n      <td>中信银行股份有限公司</td>\n      <td>0.6</td>\n      <td>0.10</td>\n      <td>李争争</td>\n      <td>NaN</td>\n      <td>NaT</td>\n      <td>NaN</td>\n    </tr>\n    <tr>\n      <th>184</th>\n      <td>010281.OF</td>\n      <td>华夏保守养老</td>\n      <td>契约型开放式</td>\n      <td>NaN</td>\n      <td>NaN</td>\n      <td>混合型</td>\n      <td>华夏基金管理有限公司</td>\n      <td>中国银行股份有限公司</td>\n      <td>0.3</td>\n      <td>0.10</td>\n      <td>许利明</td>\n      <td>NaN</td>\n      <td>NaT</td>\n      <td>NaN</td>\n    </tr>\n    <tr>\n      <th>185</th>\n      <td>NaN</td>\n      <td>NaN</td>\n      <td>NaN</td>\n      <td>NaN</td>\n      <td>NaN</td>\n      <td>NaN</td>\n      <td>NaN</td>\n      <td>NaN</td>\n      <td>NaN</td>\n      <td>NaN</td>\n      <td>NaN</td>\n      <td>NaN</td>\n      <td>NaT</td>\n      <td>NaN</td>\n    </tr>\n    <tr>\n      <th>186</th>\n      <td>数据来源：Wind</td>\n      <td>NaN</td>\n      <td>NaN</td>\n      <td>NaN</td>\n      <td>NaN</td>\n      <td>NaN</td>\n      <td>NaN</td>\n      <td>NaN</td>\n      <td>NaN</td>\n      <td>NaN</td>\n      <td>NaN</td>\n      <td>NaN</td>\n      <td>NaT</td>\n      <td>NaN</td>\n    </tr>\n  </tbody>\n</table>\n<p>187 rows × 14 columns</p>\n</div>"
     },
     "metadata": {},
     "execution_count": 4
    }
   ],
   "source": [
    "df0 = pd.read_excel(r\"d:\\数据-需备份\\百度云\\余铮研究\\新研究201905起\\FOF投资\\新股发行资料2019年7月22日以来.xlsx\")\n",
    "df0"
   ]
  },
  {
   "cell_type": "code",
   "execution_count": 7,
   "metadata": {},
   "outputs": [
    {
     "output_type": "execute_result",
     "data": {
      "text/plain": [
       "          证券代码           证券简称    基金类型  单位净值\\r\\n[交易日期] 最新收盘日\\r\\n[单位] 元  \\\n",
       "182  011587.OF  东方红欣和平衡配置两年持有  契约型开放式                             NaN   \n",
       "183  010958.OF   中信保诚养老2035三年  契约型开放式                             NaN   \n",
       "184  010281.OF         华夏保守养老  契约型开放式                             NaN   \n",
       "185        NaN            NaN     NaN                             NaN   \n",
       "186  数据来源：Wind            NaN     NaN                             NaN   \n",
       "\n",
       "     基金份额\\r\\n[交易日期] 最新\\r\\n[单位] 份↓ 投资风格           基金管理人       基金托管人  \\\n",
       "182                           NaN  混合型  上海东方证券资产管理有限公司  招商银行股份有限公司   \n",
       "183                           NaN  混合型    中信保诚基金管理有限公司  中信银行股份有限公司   \n",
       "184                           NaN  混合型      华夏基金管理有限公司  中国银行股份有限公司   \n",
       "185                           NaN  NaN             NaN         NaN   \n",
       "186                           NaN  NaN             NaN         NaN   \n",
       "\n",
       "     管理费率\\r\\n[单位] %  托管费率\\r\\n[单位] % 基金经理(现任)  基金存续期 基金成立日  基金到期日  \n",
       "182             1.0             0.2  邓炯鹏,陈文扬    NaN   NaT    NaN  \n",
       "183             0.6             0.1      李争争    NaN   NaT    NaN  \n",
       "184             0.3             0.1      许利明    NaN   NaT    NaN  \n",
       "185             NaN             NaN      NaN    NaN   NaT    NaN  \n",
       "186             NaN             NaN      NaN    NaN   NaT    NaN  "
      ],
      "text/html": "<div>\n<style scoped>\n    .dataframe tbody tr th:only-of-type {\n        vertical-align: middle;\n    }\n\n    .dataframe tbody tr th {\n        vertical-align: top;\n    }\n\n    .dataframe thead th {\n        text-align: right;\n    }\n</style>\n<table border=\"1\" class=\"dataframe\">\n  <thead>\n    <tr style=\"text-align: right;\">\n      <th></th>\n      <th>证券代码</th>\n      <th>证券简称</th>\n      <th>基金类型</th>\n      <th>单位净值\\r\\n[交易日期] 最新收盘日\\r\\n[单位] 元</th>\n      <th>基金份额\\r\\n[交易日期] 最新\\r\\n[单位] 份↓</th>\n      <th>投资风格</th>\n      <th>基金管理人</th>\n      <th>基金托管人</th>\n      <th>管理费率\\r\\n[单位] %</th>\n      <th>托管费率\\r\\n[单位] %</th>\n      <th>基金经理(现任)</th>\n      <th>基金存续期</th>\n      <th>基金成立日</th>\n      <th>基金到期日</th>\n    </tr>\n  </thead>\n  <tbody>\n    <tr>\n      <th>182</th>\n      <td>011587.OF</td>\n      <td>东方红欣和平衡配置两年持有</td>\n      <td>契约型开放式</td>\n      <td>NaN</td>\n      <td>NaN</td>\n      <td>混合型</td>\n      <td>上海东方证券资产管理有限公司</td>\n      <td>招商银行股份有限公司</td>\n      <td>1.0</td>\n      <td>0.2</td>\n      <td>邓炯鹏,陈文扬</td>\n      <td>NaN</td>\n      <td>NaT</td>\n      <td>NaN</td>\n    </tr>\n    <tr>\n      <th>183</th>\n      <td>010958.OF</td>\n      <td>中信保诚养老2035三年</td>\n      <td>契约型开放式</td>\n      <td>NaN</td>\n      <td>NaN</td>\n      <td>混合型</td>\n      <td>中信保诚基金管理有限公司</td>\n      <td>中信银行股份有限公司</td>\n      <td>0.6</td>\n      <td>0.1</td>\n      <td>李争争</td>\n      <td>NaN</td>\n      <td>NaT</td>\n      <td>NaN</td>\n    </tr>\n    <tr>\n      <th>184</th>\n      <td>010281.OF</td>\n      <td>华夏保守养老</td>\n      <td>契约型开放式</td>\n      <td>NaN</td>\n      <td>NaN</td>\n      <td>混合型</td>\n      <td>华夏基金管理有限公司</td>\n      <td>中国银行股份有限公司</td>\n      <td>0.3</td>\n      <td>0.1</td>\n      <td>许利明</td>\n      <td>NaN</td>\n      <td>NaT</td>\n      <td>NaN</td>\n    </tr>\n    <tr>\n      <th>185</th>\n      <td>NaN</td>\n      <td>NaN</td>\n      <td>NaN</td>\n      <td>NaN</td>\n      <td>NaN</td>\n      <td>NaN</td>\n      <td>NaN</td>\n      <td>NaN</td>\n      <td>NaN</td>\n      <td>NaN</td>\n      <td>NaN</td>\n      <td>NaN</td>\n      <td>NaT</td>\n      <td>NaN</td>\n    </tr>\n    <tr>\n      <th>186</th>\n      <td>数据来源：Wind</td>\n      <td>NaN</td>\n      <td>NaN</td>\n      <td>NaN</td>\n      <td>NaN</td>\n      <td>NaN</td>\n      <td>NaN</td>\n      <td>NaN</td>\n      <td>NaN</td>\n      <td>NaN</td>\n      <td>NaN</td>\n      <td>NaN</td>\n      <td>NaT</td>\n      <td>NaN</td>\n    </tr>\n  </tbody>\n</table>\n</div>"
     },
     "metadata": {},
     "execution_count": 7
    }
   ],
   "source": [
    "# 取列名，并转为list\n",
    "head_list = df0.columns.tolist()\n",
    "head_list"
   ]
  },
  {
   "cell_type": "code",
   "execution_count": 8,
   "metadata": {},
   "outputs": [
    {
     "output_type": "execute_result",
     "data": {
      "text/plain": [
       "          证券代码            证券简称    基金类型  单位净值\\r\\n[交易日期] 最新收盘日\\r\\n[单位] 元  \\\n",
       "0    006880.OF      交银安享稳健养老一年  契约型开放式                          1.1488   \n",
       "1    008886.OF     民生加银卓越配置6个月  契约型开放式                          1.1381   \n",
       "2    006991.OF    民生加银康宁稳健养老一年  契约型开放式                          1.2211   \n",
       "3    010266.OF    兴全安泰稳健养老一年持有  契约型开放式                          1.0267   \n",
       "4    010277.OF  嘉实民安添岁稳健养老一年持有  契约型开放式                          1.0112   \n",
       "..         ...             ...     ...                             ...   \n",
       "180  011605.OF       交银招享一年持有A  契约型开放式                             NaN   \n",
       "181  011593.OF      农银汇理安瑞一年持有  契约型开放式                             NaN   \n",
       "182  011587.OF   东方红欣和平衡配置两年持有  契约型开放式                             NaN   \n",
       "183  010958.OF    中信保诚养老2035三年  契约型开放式                             NaN   \n",
       "184  010281.OF          华夏保守养老  契约型开放式                             NaN   \n",
       "\n",
       "     基金份额\\r\\n[交易日期] 最新\\r\\n[单位] 份↓ 投资风格           基金管理人           基金托管人  \\\n",
       "0                    9.955281e+09  混合型   交银施罗德基金管理有限公司    中国农业银行股份有限公司   \n",
       "1                    8.882033e+09  混合型    民生加银基金管理有限公司    中国建设银行股份有限公司   \n",
       "2                    5.730352e+09  混合型    民生加银基金管理有限公司    中国建设银行股份有限公司   \n",
       "3                    5.657831e+09  混合型    兴证全球基金管理有限公司    中国建设银行股份有限公司   \n",
       "4                    5.082954e+09  混合型      嘉实基金管理有限公司    中国民生银行股份有限公司   \n",
       "..                            ...  ...             ...             ...   \n",
       "180                           NaN  混合型   交银施罗德基金管理有限公司      招商银行股份有限公司   \n",
       "181                           NaN  混合型    农银汇理基金管理有限公司  上海浦东发展银行股份有限公司   \n",
       "182                           NaN  混合型  上海东方证券资产管理有限公司      招商银行股份有限公司   \n",
       "183                           NaN  混合型    中信保诚基金管理有限公司      中信银行股份有限公司   \n",
       "184                           NaN  混合型      华夏基金管理有限公司      中国银行股份有限公司   \n",
       "\n",
       "     管理费率\\r\\n[单位] %  托管费率\\r\\n[单位] % 基金经理(现任)  基金存续期      基金成立日  基金到期日  \n",
       "0               0.6            0.20       杨喆    NaN 2019-05-30    NaN  \n",
       "1               0.6            0.15      于善辉    NaN 2020-02-20    NaN  \n",
       "2               0.6            0.15      于善辉    NaN 2019-04-26    NaN  \n",
       "3               0.6            0.15      林国怀    NaN 2020-11-26    NaN  \n",
       "4               0.6            0.15       郑科    NaN 2021-01-13    NaN  \n",
       "..              ...             ...      ...    ...        ...    ...  \n",
       "180             0.5            0.15       杨喆    NaN        NaT    NaN  \n",
       "181             1.0            0.20      罗文波    NaN        NaT    NaN  \n",
       "182             1.0            0.20  邓炯鹏,陈文扬    NaN        NaT    NaN  \n",
       "183             0.6            0.10      李争争    NaN        NaT    NaN  \n",
       "184             0.3            0.10      许利明    NaN        NaT    NaN  \n",
       "\n",
       "[185 rows x 14 columns]"
      ],
      "text/html": "<div>\n<style scoped>\n    .dataframe tbody tr th:only-of-type {\n        vertical-align: middle;\n    }\n\n    .dataframe tbody tr th {\n        vertical-align: top;\n    }\n\n    .dataframe thead th {\n        text-align: right;\n    }\n</style>\n<table border=\"1\" class=\"dataframe\">\n  <thead>\n    <tr style=\"text-align: right;\">\n      <th></th>\n      <th>证券代码</th>\n      <th>证券简称</th>\n      <th>基金类型</th>\n      <th>单位净值\\r\\n[交易日期] 最新收盘日\\r\\n[单位] 元</th>\n      <th>基金份额\\r\\n[交易日期] 最新\\r\\n[单位] 份↓</th>\n      <th>投资风格</th>\n      <th>基金管理人</th>\n      <th>基金托管人</th>\n      <th>管理费率\\r\\n[单位] %</th>\n      <th>托管费率\\r\\n[单位] %</th>\n      <th>基金经理(现任)</th>\n      <th>基金存续期</th>\n      <th>基金成立日</th>\n      <th>基金到期日</th>\n    </tr>\n  </thead>\n  <tbody>\n    <tr>\n      <th>0</th>\n      <td>006880.OF</td>\n      <td>交银安享稳健养老一年</td>\n      <td>契约型开放式</td>\n      <td>1.1488</td>\n      <td>9.955281e+09</td>\n      <td>混合型</td>\n      <td>交银施罗德基金管理有限公司</td>\n      <td>中国农业银行股份有限公司</td>\n      <td>0.6</td>\n      <td>0.20</td>\n      <td>杨喆</td>\n      <td>NaN</td>\n      <td>2019-05-30</td>\n      <td>NaN</td>\n    </tr>\n    <tr>\n      <th>1</th>\n      <td>008886.OF</td>\n      <td>民生加银卓越配置6个月</td>\n      <td>契约型开放式</td>\n      <td>1.1381</td>\n      <td>8.882033e+09</td>\n      <td>混合型</td>\n      <td>民生加银基金管理有限公司</td>\n      <td>中国建设银行股份有限公司</td>\n      <td>0.6</td>\n      <td>0.15</td>\n      <td>于善辉</td>\n      <td>NaN</td>\n      <td>2020-02-20</td>\n      <td>NaN</td>\n    </tr>\n    <tr>\n      <th>2</th>\n      <td>006991.OF</td>\n      <td>民生加银康宁稳健养老一年</td>\n      <td>契约型开放式</td>\n      <td>1.2211</td>\n      <td>5.730352e+09</td>\n      <td>混合型</td>\n      <td>民生加银基金管理有限公司</td>\n      <td>中国建设银行股份有限公司</td>\n      <td>0.6</td>\n      <td>0.15</td>\n      <td>于善辉</td>\n      <td>NaN</td>\n      <td>2019-04-26</td>\n      <td>NaN</td>\n    </tr>\n    <tr>\n      <th>3</th>\n      <td>010266.OF</td>\n      <td>兴全安泰稳健养老一年持有</td>\n      <td>契约型开放式</td>\n      <td>1.0267</td>\n      <td>5.657831e+09</td>\n      <td>混合型</td>\n      <td>兴证全球基金管理有限公司</td>\n      <td>中国建设银行股份有限公司</td>\n      <td>0.6</td>\n      <td>0.15</td>\n      <td>林国怀</td>\n      <td>NaN</td>\n      <td>2020-11-26</td>\n      <td>NaN</td>\n    </tr>\n    <tr>\n      <th>4</th>\n      <td>010277.OF</td>\n      <td>嘉实民安添岁稳健养老一年持有</td>\n      <td>契约型开放式</td>\n      <td>1.0112</td>\n      <td>5.082954e+09</td>\n      <td>混合型</td>\n      <td>嘉实基金管理有限公司</td>\n      <td>中国民生银行股份有限公司</td>\n      <td>0.6</td>\n      <td>0.15</td>\n      <td>郑科</td>\n      <td>NaN</td>\n      <td>2021-01-13</td>\n      <td>NaN</td>\n    </tr>\n    <tr>\n      <th>...</th>\n      <td>...</td>\n      <td>...</td>\n      <td>...</td>\n      <td>...</td>\n      <td>...</td>\n      <td>...</td>\n      <td>...</td>\n      <td>...</td>\n      <td>...</td>\n      <td>...</td>\n      <td>...</td>\n      <td>...</td>\n      <td>...</td>\n      <td>...</td>\n    </tr>\n    <tr>\n      <th>180</th>\n      <td>011605.OF</td>\n      <td>交银招享一年持有A</td>\n      <td>契约型开放式</td>\n      <td>NaN</td>\n      <td>NaN</td>\n      <td>混合型</td>\n      <td>交银施罗德基金管理有限公司</td>\n      <td>招商银行股份有限公司</td>\n      <td>0.5</td>\n      <td>0.15</td>\n      <td>杨喆</td>\n      <td>NaN</td>\n      <td>NaT</td>\n      <td>NaN</td>\n    </tr>\n    <tr>\n      <th>181</th>\n      <td>011593.OF</td>\n      <td>农银汇理安瑞一年持有</td>\n      <td>契约型开放式</td>\n      <td>NaN</td>\n      <td>NaN</td>\n      <td>混合型</td>\n      <td>农银汇理基金管理有限公司</td>\n      <td>上海浦东发展银行股份有限公司</td>\n      <td>1.0</td>\n      <td>0.20</td>\n      <td>罗文波</td>\n      <td>NaN</td>\n      <td>NaT</td>\n      <td>NaN</td>\n    </tr>\n    <tr>\n      <th>182</th>\n      <td>011587.OF</td>\n      <td>东方红欣和平衡配置两年持有</td>\n      <td>契约型开放式</td>\n      <td>NaN</td>\n      <td>NaN</td>\n      <td>混合型</td>\n      <td>上海东方证券资产管理有限公司</td>\n      <td>招商银行股份有限公司</td>\n      <td>1.0</td>\n      <td>0.20</td>\n      <td>邓炯鹏,陈文扬</td>\n      <td>NaN</td>\n      <td>NaT</td>\n      <td>NaN</td>\n    </tr>\n    <tr>\n      <th>183</th>\n      <td>010958.OF</td>\n      <td>中信保诚养老2035三年</td>\n      <td>契约型开放式</td>\n      <td>NaN</td>\n      <td>NaN</td>\n      <td>混合型</td>\n      <td>中信保诚基金管理有限公司</td>\n      <td>中信银行股份有限公司</td>\n      <td>0.6</td>\n      <td>0.10</td>\n      <td>李争争</td>\n      <td>NaN</td>\n      <td>NaT</td>\n      <td>NaN</td>\n    </tr>\n    <tr>\n      <th>184</th>\n      <td>010281.OF</td>\n      <td>华夏保守养老</td>\n      <td>契约型开放式</td>\n      <td>NaN</td>\n      <td>NaN</td>\n      <td>混合型</td>\n      <td>华夏基金管理有限公司</td>\n      <td>中国银行股份有限公司</td>\n      <td>0.3</td>\n      <td>0.10</td>\n      <td>许利明</td>\n      <td>NaN</td>\n      <td>NaT</td>\n      <td>NaN</td>\n    </tr>\n  </tbody>\n</table>\n<p>185 rows × 14 columns</p>\n</div>"
     },
     "metadata": {},
     "execution_count": 8
    }
   ],
   "source": [
    "# 去掉wind导出数据时留的倒数第一、第二行的尾巴,并去掉第一行。第一行原来是合并的excel单元格，不便处理\n",
    "lastrow = len(df0.index) - 1\n",
    "df1 = df0.drop(labels=[lastrow-1,lastrow],axis=0)\n",
    "df1"
   ]
  },
  {
   "cell_type": "code",
   "execution_count": 9,
   "metadata": {},
   "outputs": [
    {
     "output_type": "execute_result",
     "data": {
      "text/plain": [
       "(185, 14)"
      ]
     },
     "metadata": {},
     "execution_count": 9
    }
   ],
   "source": [
    "# 检查df1的形状\n",
    "df1.shape"
   ]
  },
  {
   "cell_type": "code",
   "execution_count": null,
   "metadata": {},
   "outputs": [],
   "source": [
    "# 先保存一下\n",
    "df1.to_excel(\"ipo-win导出数据处理表头-去尾1.xlsx\")"
   ]
  },
  {
   "cell_type": "code",
   "execution_count": null,
   "metadata": {},
   "outputs": [],
   "source": [
    "# 删除表头的list里面的不需要的文字：“nan”\n",
    "newhead2 = []\n",
    "for i in range(0,len(newhead1)):\n",
    "    newhead2.append(str(newhead1[i]).replace(\"nan\",\"\"))\n",
    "newhead2"
   ]
  },
  {
   "cell_type": "code",
   "execution_count": null,
   "metadata": {},
   "outputs": [],
   "source": [
    "# 删除表头的list里面的不需要的文字：“Unnamed: ”\n",
    "newhead3 = []\n",
    "for i in range(0,len(newhead2)):\n",
    "    newhead3.append(str(newhead2[i]).replace(\"Unnamed: \",\"\"))\n",
    "newhead3"
   ]
  },
  {
   "cell_type": "code",
   "execution_count": null,
   "metadata": {},
   "outputs": [],
   "source": [
    "# 将处理完的list传给df1作为新的表头\n",
    "df1.columns = newhead3\n",
    "df1"
   ]
  },
  {
   "cell_type": "code",
   "execution_count": null,
   "metadata": {},
   "outputs": [],
   "source": [
    "# 保存为文件\n",
    "df1.to_excel(\"ipo-win导出数据处理表头-去尾2.xlsx\")"
   ]
  },
  {
   "cell_type": "code",
   "execution_count": null,
   "metadata": {},
   "outputs": [],
   "source": [
    "# 检查各列的数据类型，发现第2列“申购代码”的类型为float64，导致开头的“00”被自动删除了，要想办法恢复，变为字符串，在DataFrame里面就是object类型\n",
    "df1.dtypes\n"
   ]
  },
  {
   "cell_type": "code",
   "execution_count": null,
   "metadata": {},
   "outputs": [],
   "source": [
    "# 将第2列的类型转化为字符串\n",
    "df1 = df1.astype({'申购代码': np.str})\n",
    "df1.dtypes"
   ]
  },
  {
   "cell_type": "code",
   "execution_count": null,
   "metadata": {},
   "outputs": [],
   "source": [
    "len(df1[\"申购代码\"])"
   ]
  },
  {
   "cell_type": "code",
   "execution_count": null,
   "metadata": {},
   "outputs": [],
   "source": [
    "df1[0:3]"
   ]
  },
  {
   "cell_type": "code",
   "execution_count": null,
   "metadata": {},
   "outputs": [],
   "source": [
    "df1['代码'].dtypes"
   ]
  },
  {
   "cell_type": "code",
   "execution_count": null,
   "metadata": {},
   "outputs": [],
   "source": [
    "df1[['代码']].dtypes"
   ]
  },
  {
   "cell_type": "code",
   "execution_count": null,
   "metadata": {},
   "outputs": [],
   "source": [
    "\n",
    "df1[[\"代码\"]]\n"
   ]
  },
  {
   "cell_type": "code",
   "execution_count": null,
   "metadata": {},
   "outputs": [],
   "source": [
    "df1['申购代码']"
   ]
  },
  {
   "cell_type": "code",
   "execution_count": null,
   "metadata": {},
   "outputs": [],
   "source": [
    "df1[\"申购代码\"]"
   ]
  },
  {
   "cell_type": "code",
   "execution_count": null,
   "metadata": {},
   "outputs": [],
   "source": []
  },
  {
   "cell_type": "code",
   "execution_count": null,
   "metadata": {},
   "outputs": [],
   "source": []
  },
  {
   "cell_type": "code",
   "execution_count": null,
   "metadata": {},
   "outputs": [],
   "source": []
  },
  {
   "cell_type": "code",
   "execution_count": null,
   "metadata": {},
   "outputs": [],
   "source": []
  },
  {
   "cell_type": "code",
   "execution_count": null,
   "metadata": {},
   "outputs": [],
   "source": [
    "# 统计所有变量，包括非数量化的变量。去掉include='all'，则只统计数量和分类变量\n",
    "df1.describe(include='all')  "
   ]
  },
  {
   "cell_type": "code",
   "execution_count": null,
   "metadata": {},
   "outputs": [],
   "source": [
    "df1.describe()"
   ]
  },
  {
   "cell_type": "code",
   "execution_count": null,
   "metadata": {},
   "outputs": [],
   "source": [
    "# 按某一列来分类，统计数据\n",
    "df1.groupby(['wind二级分类']).describe() "
   ]
  },
  {
   "cell_type": "code",
   "execution_count": null,
   "metadata": {},
   "outputs": [],
   "source": [
    "# column_headers_list = column_headers.tolist()\n",
    "# print(column_headers_list)"
   ]
  },
  {
   "cell_type": "code",
   "execution_count": null,
   "metadata": {},
   "outputs": [],
   "source": [
    "# 选择证券代码、证券简称、近1年排名%、年化收益率2015年初以来这四列数据，注意是两个方括号\n",
    "df1[[\"证券代码\", \"证券简称\", \"近1年排名%\", \"年化收益率2015年初以来\"]]"
   ]
  },
  {
   "cell_type": "code",
   "execution_count": null,
   "metadata": {},
   "outputs": [],
   "source": [
    "# 只选择第0-3行，行的序号从0开始\n",
    "df2 = df1[0:3] \n"
   ]
  },
  {
   "cell_type": "code",
   "execution_count": null,
   "metadata": {},
   "outputs": [],
   "source": [
    "a = df1[\"证券代码\"]"
   ]
  },
  {
   "cell_type": "code",
   "execution_count": null,
   "metadata": {},
   "outputs": [],
   "source": [
    "a"
   ]
  },
  {
   "cell_type": "code",
   "execution_count": null,
   "metadata": {},
   "outputs": [],
   "source": [
    "df1.iloc[:,0:4]"
   ]
  },
  {
   "cell_type": "code",
   "execution_count": null,
   "metadata": {},
   "outputs": [],
   "source": [
    "df.iloc[:,[1,4]]"
   ]
  },
  {
   "cell_type": "code",
   "execution_count": null,
   "metadata": {},
   "outputs": [],
   "source": [
    "df1[\"证券代码\"]"
   ]
  },
  {
   "cell_type": "code",
   "execution_count": null,
   "metadata": {},
   "outputs": [],
   "source": [
    "df1['证券代码']"
   ]
  },
  {
   "cell_type": "code",
   "execution_count": null,
   "metadata": {},
   "outputs": [],
   "source": [
    "df1[[\"证券代码\"]]"
   ]
  },
  {
   "cell_type": "code",
   "execution_count": null,
   "metadata": {},
   "outputs": [],
   "source": []
  }
 ]
}